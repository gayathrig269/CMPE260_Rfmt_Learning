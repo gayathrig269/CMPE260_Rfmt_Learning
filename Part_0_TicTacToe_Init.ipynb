{
  "nbformat": 4,
  "nbformat_minor": 0,
  "metadata": {
    "kernelspec": {
      "display_name": "Python 3",
      "language": "python",
      "name": "python3"
    },
    "language_info": {
      "codemirror_mode": {
        "name": "ipython",
        "version": 3
      },
      "file_extension": ".py",
      "mimetype": "text/x-python",
      "name": "python",
      "nbconvert_exporter": "python",
      "pygments_lexer": "ipython3",
      "version": "3.6.6"
    },
    "colab": {
      "name": "Part 0- TicTacToe_Init.ipynb",
      "provenance": [],
      "collapsed_sections": [],
      "toc_visible": true
    }
  },
  "cells": [
    {
      "cell_type": "markdown",
      "metadata": {
        "id": "qMWbbKhv9gBY"
      },
      "source": [
        "# Basic Tic Tac Toe support classes and game logic"
      ]
    },
    {
      "cell_type": "markdown",
      "metadata": {
        "id": "dShTvP8Z9gBZ"
      },
      "source": [
        "This notebook is about defining the pre-requisites of playing a tic-tac-toe game, with a computer playing against itself and learning a few reinforcement techniques and applying them.\n"
      ]
    },
    {
      "cell_type": "code",
      "metadata": {
        "colab": {
          "base_uri": "https://localhost:8080/"
        },
        "id": "e3wetyXM9nBt",
        "outputId": "016c9e22-a2f0-41c9-9a95-9496b11342da"
      },
      "source": [
        "#Mounting the google drive contents of TIC-TAC_TOE code \n",
        "from google.colab import drive\n",
        "\n",
        "drive.mount('/content/gdrive')\n",
        "root_path = 'gdrive/My Drive/tic_tac_toe_master/'"
      ],
      "execution_count": 33,
      "outputs": [
        {
          "output_type": "stream",
          "text": [
            "Drive already mounted at /content/gdrive; to attempt to forcibly remount, call drive.mount(\"/content/gdrive\", force_remount=True).\n"
          ],
          "name": "stdout"
        }
      ]
    },
    {
      "cell_type": "markdown",
      "metadata": {
        "id": "St_DDutv9r5P"
      },
      "source": [
        "## Pre-requisites:\n",
        "\n",
        "We will use the following classes which are defined in Board.py:\n",
        "\n",
        "* `Board`: Contains all the Tic Tac Toe board state management plus some utility methods\n",
        "* `GameResult`: Enum of all the possible game states. A game can be either `NOT_FINISHED`, `DRAW`, `CROSS_WIN`, or `NAUGT_WIN`\n",
        "* `CROSS`, `NAUGHT`: Will tell our players what side they play, as well as indicate what pieces are on each square of the board - which can also be `EMPTY`. \n",
        "\n",
        "We also define a utility method `print_board` that prints a board state pretty in HTML:"
      ]
    },
    {
      "cell_type": "code",
      "metadata": {
        "id": "UmSoWNsP9gBZ"
      },
      "source": [
        "#\n",
        "# Copyright 2017 Carsten Friedrich (Carsten.Friedrich@gmail.com). All rights reserved\n",
        "#\n",
        "\n",
        "from IPython.display import HTML, display\n",
        "from Board import Board, GameResult, CROSS, NAUGHT\n",
        "\n",
        "\n",
        "def print_board(board):\n",
        "    display(HTML(\"\"\"\n",
        "    <style>\n",
        "    .rendered_html table, .rendered_html th, .rendered_html tr, .rendered_html td {\n",
        "      border: 1px  black solid !important;\n",
        "      color: black !important;\n",
        "    }\n",
        "    </style>\n",
        "    \"\"\"+board.html_str()))"
      ],
      "execution_count": 23,
      "outputs": []
    },
    {
      "cell_type": "markdown",
      "metadata": {
        "id": "mqFKDDbh9gBZ"
      },
      "source": [
        "We can now create a new board and print it in all its empty glory:"
      ]
    },
    {
      "cell_type": "code",
      "metadata": {
        "colab": {
          "base_uri": "https://localhost:8080/",
          "height": 90
        },
        "id": "xjbiEow79gBZ",
        "outputId": "6ff4cb64-74e2-4baa-f9d6-33391a7007d6"
      },
      "source": [
        "board = Board()\n",
        "print_board(board)"
      ],
      "execution_count": 24,
      "outputs": [
        {
          "output_type": "display_data",
          "data": {
            "text/html": [
              "\n",
              "    <style>\n",
              "    .rendered_html table, .rendered_html th, .rendered_html tr, .rendered_html td {\n",
              "      border: 1px  black solid !important;\n",
              "      color: black !important;\n",
              "    }\n",
              "    </style>\n",
              "    <table border=\"1\"><tr><td>&ensp;</td><td>&ensp;</td><td>&ensp;</td></tr><tr><td>&ensp;</td><td>&ensp;</td><td>&ensp;</td></tr><tr><td>&ensp;</td><td>&ensp;</td><td>&ensp;</td></tr></table>"
            ],
            "text/plain": [
              "<IPython.core.display.HTML object>"
            ]
          },
          "metadata": {
            "tags": []
          }
        }
      ]
    },
    {
      "cell_type": "markdown",
      "metadata": {
        "id": "mAuMvOqq9gBa"
      },
      "source": [
        "Time to make a move. We use the methods `random_empty_spot` and `move` to find a random empty spot on the board and put a `CROSS` there. We then print the board to confirm:"
      ]
    },
    {
      "cell_type": "code",
      "metadata": {
        "colab": {
          "base_uri": "https://localhost:8080/",
          "height": 90
        },
        "id": "QtQwNMWs9gBa",
        "outputId": "b8c31633-2e48-4e9a-d233-ad5c0fb48f84"
      },
      "source": [
        "board.move(board.random_empty_spot(), CROSS)\n",
        "print_board(board)"
      ],
      "execution_count": 25,
      "outputs": [
        {
          "output_type": "display_data",
          "data": {
            "text/html": [
              "\n",
              "    <style>\n",
              "    .rendered_html table, .rendered_html th, .rendered_html tr, .rendered_html td {\n",
              "      border: 1px  black solid !important;\n",
              "      color: black !important;\n",
              "    }\n",
              "    </style>\n",
              "    <table border=\"1\"><tr><td>&ensp;</td><td>&ensp;</td><td>&ensp;</td></tr><tr><td>&ensp;</td><td>&ensp;</td><td>x</td></tr><tr><td>&ensp;</td><td>&ensp;</td><td>&ensp;</td></tr></table>"
            ],
            "text/plain": [
              "<IPython.core.display.HTML object>"
            ]
          },
          "metadata": {
            "tags": []
          }
        }
      ]
    },
    {
      "cell_type": "markdown",
      "metadata": {
        "id": "_kUk2k0j9gBa"
      },
      "source": [
        "Let's extend that to play a whole game. \n",
        "\n",
        "We reset the board state and play alternating CROSS and NAUGHT until the game is either won by one side or a draw. We print the board after each move. After the game has finished print out who won."
      ]
    },
    {
      "cell_type": "code",
      "metadata": {
        "colab": {
          "base_uri": "https://localhost:8080/",
          "height": 399
        },
        "id": "xNgJPkK-9gBa",
        "outputId": "6d3487d8-cc2f-4019-e798-c6307877e819"
      },
      "source": [
        "board.reset()\n",
        "finished = False\n",
        "while not finished:\n",
        "   _, result, finished = board.move(board.random_empty_spot(), CROSS)\n",
        "   print_board(board)\n",
        "   if finished:\n",
        "       if result == GameResult.DRAW:\n",
        "           print(\"Game is a draw\")\n",
        "       else:\n",
        "           print(\"Cross won!\")\n",
        "   else:\n",
        "       _, result, finished = board.move(board.random_empty_spot(), NAUGHT)\n",
        "       print_board(board)\n",
        "       if finished:\n",
        "            if result == GameResult.DRAW:\n",
        "               print(\"Game is a draw\")\n",
        "            else:\n",
        "               print(\"Naught won!\")"
      ],
      "execution_count": 26,
      "outputs": [
        {
          "output_type": "display_data",
          "data": {
            "text/html": [
              "\n",
              "    <style>\n",
              "    .rendered_html table, .rendered_html th, .rendered_html tr, .rendered_html td {\n",
              "      border: 1px  black solid !important;\n",
              "      color: black !important;\n",
              "    }\n",
              "    </style>\n",
              "    <table border=\"1\"><tr><td>&ensp;</td><td>&ensp;</td><td>&ensp;</td></tr><tr><td>&ensp;</td><td>&ensp;</td><td>x</td></tr><tr><td>&ensp;</td><td>&ensp;</td><td>&ensp;</td></tr></table>"
            ],
            "text/plain": [
              "<IPython.core.display.HTML object>"
            ]
          },
          "metadata": {
            "tags": []
          }
        },
        {
          "output_type": "display_data",
          "data": {
            "text/html": [
              "\n",
              "    <style>\n",
              "    .rendered_html table, .rendered_html th, .rendered_html tr, .rendered_html td {\n",
              "      border: 1px  black solid !important;\n",
              "      color: black !important;\n",
              "    }\n",
              "    </style>\n",
              "    <table border=\"1\"><tr><td>&ensp;</td><td>&ensp;</td><td>&ensp;</td></tr><tr><td>o</td><td>&ensp;</td><td>x</td></tr><tr><td>&ensp;</td><td>&ensp;</td><td>&ensp;</td></tr></table>"
            ],
            "text/plain": [
              "<IPython.core.display.HTML object>"
            ]
          },
          "metadata": {
            "tags": []
          }
        },
        {
          "output_type": "display_data",
          "data": {
            "text/html": [
              "\n",
              "    <style>\n",
              "    .rendered_html table, .rendered_html th, .rendered_html tr, .rendered_html td {\n",
              "      border: 1px  black solid !important;\n",
              "      color: black !important;\n",
              "    }\n",
              "    </style>\n",
              "    <table border=\"1\"><tr><td>&ensp;</td><td>&ensp;</td><td>&ensp;</td></tr><tr><td>o</td><td>&ensp;</td><td>x</td></tr><tr><td>&ensp;</td><td>&ensp;</td><td>x</td></tr></table>"
            ],
            "text/plain": [
              "<IPython.core.display.HTML object>"
            ]
          },
          "metadata": {
            "tags": []
          }
        },
        {
          "output_type": "display_data",
          "data": {
            "text/html": [
              "\n",
              "    <style>\n",
              "    .rendered_html table, .rendered_html th, .rendered_html tr, .rendered_html td {\n",
              "      border: 1px  black solid !important;\n",
              "      color: black !important;\n",
              "    }\n",
              "    </style>\n",
              "    <table border=\"1\"><tr><td>&ensp;</td><td>&ensp;</td><td>&ensp;</td></tr><tr><td>o</td><td>&ensp;</td><td>x</td></tr><tr><td>o</td><td>&ensp;</td><td>x</td></tr></table>"
            ],
            "text/plain": [
              "<IPython.core.display.HTML object>"
            ]
          },
          "metadata": {
            "tags": []
          }
        },
        {
          "output_type": "display_data",
          "data": {
            "text/html": [
              "\n",
              "    <style>\n",
              "    .rendered_html table, .rendered_html th, .rendered_html tr, .rendered_html td {\n",
              "      border: 1px  black solid !important;\n",
              "      color: black !important;\n",
              "    }\n",
              "    </style>\n",
              "    <table border=\"1\"><tr><td>&ensp;</td><td>&ensp;</td><td>x</td></tr><tr><td>o</td><td>&ensp;</td><td>x</td></tr><tr><td>o</td><td>&ensp;</td><td>x</td></tr></table>"
            ],
            "text/plain": [
              "<IPython.core.display.HTML object>"
            ]
          },
          "metadata": {
            "tags": []
          }
        },
        {
          "output_type": "stream",
          "text": [
            "Cross won!\n"
          ],
          "name": "stdout"
        }
      ]
    },
    {
      "cell_type": "markdown",
      "metadata": {
        "id": "hKuNP-eI9gBb"
      },
      "source": [
        "let's wrap this code in a utility function called `play_game`. It takes a board and 2 players and plays a complete game. It returns the result of the game at the end. We will use this going forward to evaluate our computer players:"
      ]
    },
    {
      "cell_type": "code",
      "metadata": {
        "id": "yx0UFohw9gBb"
      },
      "source": [
        "from Player import Player\n",
        "\n",
        "\n",
        "def play_game(board: Board, player1: Player, player2: Player):\n",
        "    player1.new_game(CROSS)\n",
        "    player2.new_game(NAUGHT)\n",
        "    board.reset()\n",
        "    \n",
        "    finished = False\n",
        "    while not finished:\n",
        "        result, finished = player1.move(board)\n",
        "        if finished:\n",
        "            if result == GameResult.DRAW:\n",
        "                final_result = GameResult.DRAW\n",
        "            else:\n",
        "                final_result =  GameResult.CROSS_WIN\n",
        "        else:\n",
        "            result, finished = player2.move(board)\n",
        "            if finished:\n",
        "                if result == GameResult.DRAW:\n",
        "                    final_result =  GameResult.DRAW\n",
        "                else:\n",
        "                    final_result =  GameResult.NAUGHT_WIN\n",
        "        \n",
        "    player1.final_result(final_result)\n",
        "    player2.final_result(final_result)\n",
        "    return final_result\n"
      ],
      "execution_count": 27,
      "outputs": []
    },
    {
      "cell_type": "markdown",
      "metadata": {
        "id": "KBpqsdcb9gBb"
      },
      "source": [
        "---\n",
        "\n",
        "# The RandomPlayer\n",
        "\n",
        "Time to introduce our first contender, the **RandomPlayer.py**. It looks for a random empty spot on the board and puts its piece there. \n",
        "\n",
        "Here we import it, create 2 instances of it and let them play a game."
      ]
    },
    {
      "cell_type": "code",
      "metadata": {
        "colab": {
          "base_uri": "https://localhost:8080/",
          "height": 108
        },
        "id": "-pK49j-J9gBb",
        "outputId": "0d7cdc35-6b2e-428f-8efe-64d256d35e6d"
      },
      "source": [
        "from RandomPlayer import RandomPlayer\n",
        "\n",
        "player1 = RandomPlayer()\n",
        "player2 = RandomPlayer()\n",
        "result = play_game(board, player1, player2)\n",
        "print_board(board)\n",
        "if result == GameResult.CROSS_WIN:\n",
        "    print(\"Cross won\")\n",
        "elif result == GameResult.NAUGHT_WIN:\n",
        "    print(\"Naught won\")\n",
        "else:\n",
        "    print(\"Draw\")"
      ],
      "execution_count": 31,
      "outputs": [
        {
          "output_type": "display_data",
          "data": {
            "text/html": [
              "\n",
              "    <style>\n",
              "    .rendered_html table, .rendered_html th, .rendered_html tr, .rendered_html td {\n",
              "      border: 1px  black solid !important;\n",
              "      color: black !important;\n",
              "    }\n",
              "    </style>\n",
              "    <table border=\"1\"><tr><td>o</td><td>x</td><td>x</td></tr><tr><td>&ensp;</td><td>o</td><td>x</td></tr><tr><td>o</td><td>x</td><td>o</td></tr></table>"
            ],
            "text/plain": [
              "<IPython.core.display.HTML object>"
            ]
          },
          "metadata": {
            "tags": []
          }
        },
        {
          "output_type": "stream",
          "text": [
            "Naught won\n"
          ],
          "name": "stdout"
        }
      ]
    },
    {
      "cell_type": "markdown",
      "metadata": {
        "id": "f8IWOt7M9gBc"
      },
      "source": [
        "---\n",
        "\n",
        "# Establishing some ground truth.\n",
        "\n",
        "Using the code we introduced above we can now establish some ground truth: If we let 2 random players play against each other a large enough number of times, how many games do we expect to be won by `NAUGHT`, how many by `CROSS`, and how many do we expect to end in a draw?\n",
        "\n",
        "Going forward, building more intelligent players, we can then measure how much better they play compared to a random player."
      ]
    },
    {
      "cell_type": "code",
      "metadata": {
        "colab": {
          "base_uri": "https://localhost:8080/"
        },
        "id": "ZQFlEH_59gBc",
        "outputId": "227fdad2-f2ef-41d3-8849-23b1de9aa6ba"
      },
      "source": [
        "num_games = 100000\n",
        "\n",
        "draw_count = 0\n",
        "cross_count = 0\n",
        "naught_count = 0\n",
        "\n",
        "p1 = RandomPlayer()\n",
        "p2 = RandomPlayer()\n",
        "\n",
        "for _ in range(num_games):\n",
        "    result = play_game(board, p1, p2)\n",
        "    if result == GameResult.CROSS_WIN:\n",
        "        cross_count += 1\n",
        "    elif result == GameResult.NAUGHT_WIN:\n",
        "        naught_count += 1\n",
        "    else:\n",
        "        draw_count += 1\n",
        "        \n",
        "print(\"After {} game we have draws: {}, cross wins: {}, and naught wins: {}.\".format(num_games, draw_count, \n",
        "                                                                        cross_count, naught_count))\n",
        "\n",
        "print(\"Which gives percentages of draws : cross : naught of about {:.2%} : {:.2%} : {:.2%}\".format(\n",
        "    draw_count / num_games, cross_count / num_games, naught_count / num_games))"
      ],
      "execution_count": 32,
      "outputs": [
        {
          "output_type": "stream",
          "text": [
            "After 100000 game we have draws: 12764, cross wins: 58433, and naught wins: 28803.\n",
            "Which gives percentages of draws : cross : naught of about 12.76% : 58.43% : 28.80%\n"
          ],
          "name": "stdout"
        }
      ]
    },
    {
      "cell_type": "markdown",
      "metadata": {
        "id": "fxpERo4-9gBc"
      },
      "source": [
        "---\n",
        "\n",
        "## Established Baseline\n",
        "\n",
        "In addition to the statistics computed above, we also know that if both players always make the best possible move, a game of Tic Tac Toe will always end in a draw. The gives us the following baseline:\n",
        "\n",
        "| Player | P1 Win | P2 Win | Draw |\n",
        "| --- | ---| --- | --- |\n",
        "| Perfect | 0%     | 0%     | 100% |\n",
        "| Random  | 58%    | 29% | 13% |\n",
        "\n",
        "In the following parts we will aim to create players that play perfectly. Where we don't quite achieve that, we will still be able to at least measure how better than the `RandomPlayer` our player is."
      ]
    }
  ]
}