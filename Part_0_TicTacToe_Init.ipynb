{
  "nbformat": 4,
  "nbformat_minor": 0,
  "metadata": {
    "kernelspec": {
      "display_name": "Python 3",
      "language": "python",
      "name": "python3"
    },
    "language_info": {
      "codemirror_mode": {
        "name": "ipython",
        "version": 3
      },
      "file_extension": ".py",
      "mimetype": "text/x-python",
      "name": "python",
      "nbconvert_exporter": "python",
      "pygments_lexer": "ipython3",
      "version": "3.6.6"
    },
    "colab": {
      "name": "Part 0- TicTacToe_Init.ipynb",
      "provenance": [],
      "collapsed_sections": [],
      "toc_visible": true,
      "include_colab_link": true
    }
  },
  "cells": [
    {
      "cell_type": "markdown",
      "metadata": {
        "id": "view-in-github",
        "colab_type": "text"
      },
      "source": [
        "<a href=\"https://colab.research.google.com/github/gayathrig269/CMPE260_Rfmt_Learning_TicTacToe/blob/main/Part_0_TicTacToe_Init.ipynb\" target=\"_parent\"><img src=\"https://colab.research.google.com/assets/colab-badge.svg\" alt=\"Open In Colab\"/></a>"
      ]
    },
    {
      "cell_type": "markdown",
      "metadata": {
        "id": "qMWbbKhv9gBY"
      },
      "source": [
        "# Basic Tic Tac Toe support classes and game logic"
      ]
    },
    {
      "cell_type": "markdown",
      "metadata": {
        "id": "dShTvP8Z9gBZ"
      },
      "source": [
        "This notebook is about defining the pre-requisites of playing a tic-tac-toe game, with a computer playing against itself and learning a few reinforcement techniques and applying them.\n"
      ]
    },
    {
      "cell_type": "code",
      "metadata": {
        "colab": {
          "base_uri": "https://localhost:8080/"
        },
        "id": "e3wetyXM9nBt",
        "outputId": "f7cdd880-4c81-4c15-cf1c-69d2bbcbca3d"
      },
      "source": [
        "#Mounting the google drive contents of TIC-TAC_TOE code \n",
        "from google.colab import drive\n",
        "\n",
        "drive.mount('/content/gdrive')\n",
        "root_path = 'gdrive/My Drive/tic_tac_toe_master/'"
      ],
      "execution_count": 1,
      "outputs": [
        {
          "output_type": "stream",
          "text": [
            "Mounted at /content/gdrive\n"
          ],
          "name": "stdout"
        }
      ]
    },
    {
      "cell_type": "markdown",
      "metadata": {
        "id": "St_DDutv9r5P"
      },
      "source": [
        "## Pre-requisites:\n",
        "\n",
        "We will use the following classes which are defined in Board.py:\n",
        "\n",
        "* `Board`: Contains all the Tic Tac Toe board state management plus some utility methods\n",
        "* `GameResult`: Enum of all the possible game states. A game can be either `NOT_FINISHED`, `DRAW`, `CROSS_WIN`, or `NAUGT_WIN`\n",
        "* `CROSS`, `NAUGHT`: Will tell our players what side they play, as well as indicate what pieces are on each square of the board - which can also be `EMPTY`. \n",
        "\n",
        "We also define a utility method `print_board` that prints a board state pretty in HTML:"
      ]
    },
    {
      "cell_type": "code",
      "metadata": {
        "colab": {
          "base_uri": "https://localhost:8080/"
        },
        "id": "Yw3wimfr3rgD",
        "outputId": "18839260-5cad-4e05-b5e2-4380189c7e1c"
      },
      "source": [
        "%cd /content/gdrive/My\\ Drive/tic_tac_toe_master/"
      ],
      "execution_count": 2,
      "outputs": [
        {
          "output_type": "stream",
          "text": [
            "/content/gdrive/My Drive/tic_tac_toe_master\n"
          ],
          "name": "stdout"
        }
      ]
    },
    {
      "cell_type": "code",
      "metadata": {
        "colab": {
          "base_uri": "https://localhost:8080/"
        },
        "id": "8WnIKYbI4vH1",
        "outputId": "738415a9-97cc-4365-9ea7-b40e5ce0a693"
      },
      "source": [
        "!pwd"
      ],
      "execution_count": 3,
      "outputs": [
        {
          "output_type": "stream",
          "text": [
            "/content/gdrive/My Drive/tic_tac_toe_master\n"
          ],
          "name": "stdout"
        }
      ]
    },
    {
      "cell_type": "code",
      "metadata": {
        "id": "UmSoWNsP9gBZ"
      },
      "source": [
        "#\n",
        "# Copyright 2017 Carsten Friedrich (Carsten.Friedrich@gmail.com). All rights reserved\n",
        "#\n",
        "\n",
        "from IPython.display import HTML, display\n",
        "from Board import Board, GameResult, CROSS, NAUGHT\n",
        "\n",
        "\n",
        "def print_board(board):\n",
        "    display(HTML(\"\"\"\n",
        "    <style>\n",
        "    .rendered_html table, .rendered_html th, .rendered_html tr, .rendered_html td {\n",
        "      border: 1px  black solid !important;\n",
        "      color: black !important;\n",
        "    }\n",
        "    </style>\n",
        "    \"\"\"+board.html_str()))"
      ],
      "execution_count": 4,
      "outputs": []
    },
    {
      "cell_type": "markdown",
      "metadata": {
        "id": "mqFKDDbh9gBZ"
      },
      "source": [
        "We can now create a new board and print it in all its empty glory:"
      ]
    },
    {
      "cell_type": "code",
      "metadata": {
        "colab": {
          "base_uri": "https://localhost:8080/",
          "height": 90
        },
        "id": "xjbiEow79gBZ",
        "outputId": "aaff70e9-036f-4c4a-a4f3-e83113de289f"
      },
      "source": [
        "board = Board()\n",
        "print_board(board)"
      ],
      "execution_count": 5,
      "outputs": [
        {
          "output_type": "display_data",
          "data": {
            "text/html": [
              "\n",
              "    <style>\n",
              "    .rendered_html table, .rendered_html th, .rendered_html tr, .rendered_html td {\n",
              "      border: 1px  black solid !important;\n",
              "      color: black !important;\n",
              "    }\n",
              "    </style>\n",
              "    <table border=\"1\"><tr><td>&ensp;</td><td>&ensp;</td><td>&ensp;</td></tr><tr><td>&ensp;</td><td>&ensp;</td><td>&ensp;</td></tr><tr><td>&ensp;</td><td>&ensp;</td><td>&ensp;</td></tr></table>"
            ],
            "text/plain": [
              "<IPython.core.display.HTML object>"
            ]
          },
          "metadata": {
            "tags": []
          }
        }
      ]
    },
    {
      "cell_type": "markdown",
      "metadata": {
        "id": "mAuMvOqq9gBa"
      },
      "source": [
        "Time to make a move. We use the methods `random_empty_spot` and `move` to find a random empty spot on the board and put a `CROSS` there. We then print the board to confirm:"
      ]
    },
    {
      "cell_type": "code",
      "metadata": {
        "colab": {
          "base_uri": "https://localhost:8080/",
          "height": 90
        },
        "id": "QtQwNMWs9gBa",
        "outputId": "5fee5519-25f9-4e05-d2bc-8f91727b2b7d"
      },
      "source": [
        "board.move(board.random_empty_spot(), CROSS)\n",
        "print_board(board)"
      ],
      "execution_count": 6,
      "outputs": [
        {
          "output_type": "display_data",
          "data": {
            "text/html": [
              "\n",
              "    <style>\n",
              "    .rendered_html table, .rendered_html th, .rendered_html tr, .rendered_html td {\n",
              "      border: 1px  black solid !important;\n",
              "      color: black !important;\n",
              "    }\n",
              "    </style>\n",
              "    <table border=\"1\"><tr><td>&ensp;</td><td>&ensp;</td><td>&ensp;</td></tr><tr><td>x</td><td>&ensp;</td><td>&ensp;</td></tr><tr><td>&ensp;</td><td>&ensp;</td><td>&ensp;</td></tr></table>"
            ],
            "text/plain": [
              "<IPython.core.display.HTML object>"
            ]
          },
          "metadata": {
            "tags": []
          }
        }
      ]
    },
    {
      "cell_type": "markdown",
      "metadata": {
        "id": "_kUk2k0j9gBa"
      },
      "source": [
        "Let's extend that to play a whole game. \n",
        "\n",
        "We reset the board state and play alternating CROSS and NAUGHT until the game is either won by one side or a draw. We print the board after each move. After the game has finished print out who won."
      ]
    },
    {
      "cell_type": "code",
      "metadata": {
        "colab": {
          "base_uri": "https://localhost:8080/",
          "height": 545
        },
        "id": "xNgJPkK-9gBa",
        "outputId": "f204bcc7-57e1-453f-d6e8-d864cacfc50c"
      },
      "source": [
        "board.reset()\n",
        "finished = False\n",
        "while not finished:\n",
        "   _, result, finished = board.move(board.random_empty_spot(), CROSS)\n",
        "   print_board(board)\n",
        "   if finished:\n",
        "       if result == GameResult.DRAW:\n",
        "           print(\"Game is a draw\")\n",
        "       else:\n",
        "           print(\"Cross won!\")\n",
        "   else:\n",
        "       _, result, finished = board.move(board.random_empty_spot(), NAUGHT)\n",
        "       print_board(board)\n",
        "       if finished:\n",
        "            if result == GameResult.DRAW:\n",
        "               print(\"Game is a draw\")\n",
        "            else:\n",
        "               print(\"Naught won!\")"
      ],
      "execution_count": 7,
      "outputs": [
        {
          "output_type": "display_data",
          "data": {
            "text/html": [
              "\n",
              "    <style>\n",
              "    .rendered_html table, .rendered_html th, .rendered_html tr, .rendered_html td {\n",
              "      border: 1px  black solid !important;\n",
              "      color: black !important;\n",
              "    }\n",
              "    </style>\n",
              "    <table border=\"1\"><tr><td>&ensp;</td><td>&ensp;</td><td>x</td></tr><tr><td>&ensp;</td><td>&ensp;</td><td>&ensp;</td></tr><tr><td>&ensp;</td><td>&ensp;</td><td>&ensp;</td></tr></table>"
            ],
            "text/plain": [
              "<IPython.core.display.HTML object>"
            ]
          },
          "metadata": {
            "tags": []
          }
        },
        {
          "output_type": "display_data",
          "data": {
            "text/html": [
              "\n",
              "    <style>\n",
              "    .rendered_html table, .rendered_html th, .rendered_html tr, .rendered_html td {\n",
              "      border: 1px  black solid !important;\n",
              "      color: black !important;\n",
              "    }\n",
              "    </style>\n",
              "    <table border=\"1\"><tr><td>&ensp;</td><td>&ensp;</td><td>x</td></tr><tr><td>o</td><td>&ensp;</td><td>&ensp;</td></tr><tr><td>&ensp;</td><td>&ensp;</td><td>&ensp;</td></tr></table>"
            ],
            "text/plain": [
              "<IPython.core.display.HTML object>"
            ]
          },
          "metadata": {
            "tags": []
          }
        },
        {
          "output_type": "display_data",
          "data": {
            "text/html": [
              "\n",
              "    <style>\n",
              "    .rendered_html table, .rendered_html th, .rendered_html tr, .rendered_html td {\n",
              "      border: 1px  black solid !important;\n",
              "      color: black !important;\n",
              "    }\n",
              "    </style>\n",
              "    <table border=\"1\"><tr><td>&ensp;</td><td>&ensp;</td><td>x</td></tr><tr><td>o</td><td>x</td><td>&ensp;</td></tr><tr><td>&ensp;</td><td>&ensp;</td><td>&ensp;</td></tr></table>"
            ],
            "text/plain": [
              "<IPython.core.display.HTML object>"
            ]
          },
          "metadata": {
            "tags": []
          }
        },
        {
          "output_type": "display_data",
          "data": {
            "text/html": [
              "\n",
              "    <style>\n",
              "    .rendered_html table, .rendered_html th, .rendered_html tr, .rendered_html td {\n",
              "      border: 1px  black solid !important;\n",
              "      color: black !important;\n",
              "    }\n",
              "    </style>\n",
              "    <table border=\"1\"><tr><td>&ensp;</td><td>o</td><td>x</td></tr><tr><td>o</td><td>x</td><td>&ensp;</td></tr><tr><td>&ensp;</td><td>&ensp;</td><td>&ensp;</td></tr></table>"
            ],
            "text/plain": [
              "<IPython.core.display.HTML object>"
            ]
          },
          "metadata": {
            "tags": []
          }
        },
        {
          "output_type": "display_data",
          "data": {
            "text/html": [
              "\n",
              "    <style>\n",
              "    .rendered_html table, .rendered_html th, .rendered_html tr, .rendered_html td {\n",
              "      border: 1px  black solid !important;\n",
              "      color: black !important;\n",
              "    }\n",
              "    </style>\n",
              "    <table border=\"1\"><tr><td>&ensp;</td><td>o</td><td>x</td></tr><tr><td>o</td><td>x</td><td>&ensp;</td></tr><tr><td>&ensp;</td><td>x</td><td>&ensp;</td></tr></table>"
            ],
            "text/plain": [
              "<IPython.core.display.HTML object>"
            ]
          },
          "metadata": {
            "tags": []
          }
        },
        {
          "output_type": "display_data",
          "data": {
            "text/html": [
              "\n",
              "    <style>\n",
              "    .rendered_html table, .rendered_html th, .rendered_html tr, .rendered_html td {\n",
              "      border: 1px  black solid !important;\n",
              "      color: black !important;\n",
              "    }\n",
              "    </style>\n",
              "    <table border=\"1\"><tr><td>&ensp;</td><td>o</td><td>x</td></tr><tr><td>o</td><td>x</td><td>&ensp;</td></tr><tr><td>&ensp;</td><td>x</td><td>o</td></tr></table>"
            ],
            "text/plain": [
              "<IPython.core.display.HTML object>"
            ]
          },
          "metadata": {
            "tags": []
          }
        },
        {
          "output_type": "display_data",
          "data": {
            "text/html": [
              "\n",
              "    <style>\n",
              "    .rendered_html table, .rendered_html th, .rendered_html tr, .rendered_html td {\n",
              "      border: 1px  black solid !important;\n",
              "      color: black !important;\n",
              "    }\n",
              "    </style>\n",
              "    <table border=\"1\"><tr><td>&ensp;</td><td>o</td><td>x</td></tr><tr><td>o</td><td>x</td><td>&ensp;</td></tr><tr><td>x</td><td>x</td><td>o</td></tr></table>"
            ],
            "text/plain": [
              "<IPython.core.display.HTML object>"
            ]
          },
          "metadata": {
            "tags": []
          }
        },
        {
          "output_type": "stream",
          "text": [
            "Cross won!\n"
          ],
          "name": "stdout"
        }
      ]
    },
    {
      "cell_type": "markdown",
      "metadata": {
        "id": "hKuNP-eI9gBb"
      },
      "source": [
        "This code is wrapped in a utility function called `play_game`. It takes a board and 2 players and plays a complete game. It returns the result of the game at the end. We will use this going forward to evaluate our computer players:"
      ]
    },
    {
      "cell_type": "code",
      "metadata": {
        "id": "yx0UFohw9gBb"
      },
      "source": [
        "from Player import Player\n",
        "\n",
        "\n",
        "def play_game(board: Board, player1: Player, player2: Player):\n",
        "    player1.new_game(CROSS)\n",
        "    player2.new_game(NAUGHT)\n",
        "    board.reset()\n",
        "    \n",
        "    finished = False\n",
        "    while not finished:\n",
        "        result, finished = player1.move(board)\n",
        "        if finished:\n",
        "            if result == GameResult.DRAW:\n",
        "                final_result = GameResult.DRAW\n",
        "            else:\n",
        "                final_result =  GameResult.CROSS_WIN\n",
        "        else:\n",
        "            result, finished = player2.move(board)\n",
        "            if finished:\n",
        "                if result == GameResult.DRAW:\n",
        "                    final_result =  GameResult.DRAW\n",
        "                else:\n",
        "                    final_result =  GameResult.NAUGHT_WIN\n",
        "        \n",
        "    player1.final_result(final_result)\n",
        "    player2.final_result(final_result)\n",
        "    return final_result\n"
      ],
      "execution_count": 8,
      "outputs": []
    },
    {
      "cell_type": "markdown",
      "metadata": {
        "id": "KBpqsdcb9gBb"
      },
      "source": [
        "---\n",
        "\n",
        "# The RandomPlayer\n",
        "\n",
        "Time to introduce our first contender, the **RandomPlayer.py**. It looks for a random empty spot on the board and puts its piece there. \n",
        "\n",
        "Here we import it, create 2 instances of it and let them play a game."
      ]
    },
    {
      "cell_type": "code",
      "metadata": {
        "colab": {
          "base_uri": "https://localhost:8080/",
          "height": 108
        },
        "id": "-pK49j-J9gBb",
        "outputId": "a8c29714-310b-4c89-915e-642360d41d97"
      },
      "source": [
        "from RandomPlayer import RandomPlayer\n",
        "\n",
        "player1 = RandomPlayer()\n",
        "player2 = RandomPlayer()\n",
        "result = play_game(board, player1, player2)\n",
        "print_board(board)\n",
        "if result == GameResult.CROSS_WIN:\n",
        "    print(\"Cross won\")\n",
        "elif result == GameResult.NAUGHT_WIN:\n",
        "    print(\"Naught won\")\n",
        "else:\n",
        "    print(\"Draw\")"
      ],
      "execution_count": 9,
      "outputs": [
        {
          "output_type": "display_data",
          "data": {
            "text/html": [
              "\n",
              "    <style>\n",
              "    .rendered_html table, .rendered_html th, .rendered_html tr, .rendered_html td {\n",
              "      border: 1px  black solid !important;\n",
              "      color: black !important;\n",
              "    }\n",
              "    </style>\n",
              "    <table border=\"1\"><tr><td>x</td><td>x</td><td>o</td></tr><tr><td>x</td><td>x</td><td>o</td></tr><tr><td>&ensp;</td><td>o</td><td>o</td></tr></table>"
            ],
            "text/plain": [
              "<IPython.core.display.HTML object>"
            ]
          },
          "metadata": {
            "tags": []
          }
        },
        {
          "output_type": "stream",
          "text": [
            "Naught won\n"
          ],
          "name": "stdout"
        }
      ]
    },
    {
      "cell_type": "markdown",
      "metadata": {
        "id": "f8IWOt7M9gBc"
      },
      "source": [
        "---\n",
        "\n",
        "# Establishing some ground truth.\n",
        "\n",
        "Using the code we introduced above we can now establish some ground truth: If we let 2 random players play against each other a large enough number of times, how many games do we expect to be won by `NAUGHT`, how many by `CROSS`, and how many do we expect to end in a draw?\n",
        "\n",
        "Going forward, building more intelligent players, we can then measure how much better they play compared to a random player."
      ]
    },
    {
      "cell_type": "code",
      "metadata": {
        "colab": {
          "base_uri": "https://localhost:8080/"
        },
        "id": "ZQFlEH_59gBc",
        "outputId": "a193cc1e-371e-4faf-98ee-b43fe7640a9a"
      },
      "source": [
        "num_games = 100000\n",
        "\n",
        "draw_count = 0\n",
        "cross_count = 0\n",
        "naught_count = 0\n",
        "\n",
        "p1 = RandomPlayer()\n",
        "p2 = RandomPlayer()\n",
        "\n",
        "for _ in range(num_games):\n",
        "    result = play_game(board, p1, p2)\n",
        "    if result == GameResult.CROSS_WIN:\n",
        "        cross_count += 1\n",
        "    elif result == GameResult.NAUGHT_WIN:\n",
        "        naught_count += 1\n",
        "    else:\n",
        "        draw_count += 1\n",
        "        \n",
        "print(\"After {} game we have draws: {}, cross wins: {}, and naught wins: {}.\".format(num_games, draw_count, \n",
        "                                                                        cross_count, naught_count))\n",
        "\n",
        "print(\"Which gives percentages of draws : cross : naught of about {:.2%} : {:.2%} : {:.2%}\".format(\n",
        "    draw_count / num_games, cross_count / num_games, naught_count / num_games))"
      ],
      "execution_count": 10,
      "outputs": [
        {
          "output_type": "stream",
          "text": [
            "After 100000 game we have draws: 12766, cross wins: 58441, and naught wins: 28793.\n",
            "Which gives percentages of draws : cross : naught of about 12.77% : 58.44% : 28.79%\n"
          ],
          "name": "stdout"
        }
      ]
    },
    {
      "cell_type": "markdown",
      "metadata": {
        "id": "fxpERo4-9gBc"
      },
      "source": [
        "---\n",
        "\n",
        "## Established Baseline\n",
        "\n",
        "In addition to the statistics computed above, we also know that if both players always make the best possible move, a game of Tic Tac Toe will always end in a draw. The gives us the following baseline:\n",
        "\n",
        "| Player | P1 Win | P2 Win | Draw |\n",
        "| --- | ---| --- | --- |\n",
        "| Perfect | 0%     | 0%     | 100% |\n",
        "| Random  | 58%    | 29% | 13% |\n",
        "\n",
        "In the following parts we will aim to create players that play perfectly. Where we don't quite achieve that, we will still be able to at least measure how better than the `RandomPlayer` our player is."
      ]
    }
  ]
}